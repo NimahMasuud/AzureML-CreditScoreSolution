{
  "cells": [
    {
      "cell_type": "code",
      "source": [
        "# Import all necessary libraries\n",
        "import os\n",
        "from azure.identity import DefaultAzureCredential, AzureCliCredential\n",
        "from azure.ai.ml import automl, Input, MLClient, command\n",
        "from azure.ai.ml.constants import AssetTypes\n",
        "from azure.ai.ml.entities import Data\n",
        "from azure.ai.ml.automl import (\n",
        "    classification,\n",
        "    ClassificationPrimaryMetrics,\n",
        "    ClassificationModels,\n",
        ")\n"
      ],
      "outputs": [],
      "execution_count": 4,
      "metadata": {
        "gather": {
          "logged": 1736688096059
        }
      }
    },
    {
      "cell_type": "code",
      "source": [
        "from azure.identity import DefaultAzureCredential\n",
        "from azure.ai.ml import MLClient\n",
        "\n",
        "try:\n",
        "    credential = DefaultAzureCredential()\n",
        "except Exception as ex:\n",
        "    print(\"Authentication failed:\", ex)\n",
        "\n",
        "# Automatically loads configuration from config.json or config.yaml\n",
        "ml_client = MLClient.from_config(credential=credential)\n",
        "\n",
        "# Verify the connection\n",
        "workspace = ml_client.workspaces.get(ml_client.workspace_name)\n",
        "print(workspace.location, \":\", workspace.resource_group)\n"
      ],
      "outputs": [
        {
          "output_type": "stream",
          "name": "stderr",
          "text": "Found the config file in: ./config.json\n"
        },
        {
          "output_type": "stream",
          "name": "stdout",
          "text": "uksouth : ML_Project\n"
        }
      ],
      "execution_count": 5,
      "metadata": {
        "jupyter": {
          "source_hidden": false,
          "outputs_hidden": false
        },
        "nteract": {
          "transient": {
            "deleting": false
          }
        },
        "gather": {
          "logged": 1736688103353
        }
      }
    },
    {
      "cell_type": "code",
      "source": [
        "training_data_input = Input(\n",
        "    type=AssetTypes.MLTABLE, path=\"azureml:credit_card:1\"\n",
        ")"
      ],
      "outputs": [],
      "execution_count": 6,
      "metadata": {
        "jupyter": {
          "source_hidden": false,
          "outputs_hidden": false
        },
        "nteract": {
          "transient": {
            "deleting": false
          }
        },
        "gather": {
          "logged": 1736688106749
        }
      }
    },
    {
      "cell_type": "code",
      "source": [
        "from azure.ai.ml import automl\n",
        "\n",
        "classification_job = automl.classification(\n",
        "    compute=\"Nmasuud1\",\n",
        "    experiment_name=\"credit_card_data\",\n",
        "    training_data=training_data_input,\n",
        "    target_column_name=\"default payment next month\",  \n",
        "    primary_metric=\"accuracy\",\n",
        "    n_cross_validations=5,\n",
        "    enable_model_explainability=True\n",
        ")\n",
        "classification_job.set_limits(\n",
        "    timeout_minutes=30, \n",
        "    trial_timeout_minutes=10, \n",
        "    max_trials=5,\n",
        "    enable_early_termination=True,\n",
        ")\n"
      ],
      "outputs": [],
      "execution_count": 7,
      "metadata": {
        "jupyter": {
          "source_hidden": false,
          "outputs_hidden": false
        },
        "nteract": {
          "transient": {
            "deleting": false
          }
        },
        "gather": {
          "logged": 1736688109741
        }
      }
    },
    {
      "cell_type": "code",
      "source": [
        "# Submit the classification job\n",
        "returned_job = ml_client.jobs.create_or_update(classification_job)\n",
        "\n",
        "# Print the Studio URL for manual monitoring\n",
        "aml_url = returned_job.studio_url\n",
        "print(\"Monitor your job at\", aml_url)\n",
        "\n",
        "# Stream logs for real-time updates\n",
        "print(\"Waiting for the job to complete...\")\n",
        "ml_client.jobs.stream(returned_job.name)\n"
      ],
      "outputs": [
        {
          "output_type": "stream",
          "name": "stdout",
          "text": "Monitor your job at https://ml.azure.com/runs/lemon_reggae_1sxfyxv12h?wsid=/subscriptions/43be7692-0d67-4524-a6de-08c117967d94/resourcegroups/ML_Project/workspaces/mlproject&tid=104704fd-f711-4575-99d5-8a6588951c90\nWaiting for the job to complete...\nRunId: lemon_reggae_1sxfyxv12h\nWeb View: https://ml.azure.com/runs/lemon_reggae_1sxfyxv12h?wsid=/subscriptions/43be7692-0d67-4524-a6de-08c117967d94/resourcegroups/ML_Project/workspaces/mlproject\n\nExecution Summary\n=================\nRunId: lemon_reggae_1sxfyxv12h\nWeb View: https://ml.azure.com/runs/lemon_reggae_1sxfyxv12h?wsid=/subscriptions/43be7692-0d67-4524-a6de-08c117967d94/resourcegroups/ML_Project/workspaces/mlproject\n\n"
        }
      ],
      "execution_count": 8,
      "metadata": {
        "jupyter": {
          "source_hidden": false,
          "outputs_hidden": false
        },
        "nteract": {
          "transient": {
            "deleting": false
          }
        },
        "gather": {
          "logged": 1736688819585
        }
      }
    },
    {
      "cell_type": "code",
      "source": [
        "import mlflow\n",
        "# Obtain the tracking URL from MLClient\n",
        "MLFLOW_TRACKING_URI = ml_client.workspaces.get(\n",
        "    name=ml_client.workspace_name\n",
        ").mlflow_tracking_uri\n",
        "\n",
        "print(MLFLOW_TRACKING_URI)"
      ],
      "outputs": [
        {
          "output_type": "stream",
          "name": "stdout",
          "text": "azureml://uksouth.api.azureml.ms/mlflow/v1.0/subscriptions/43be7692-0d67-4524-a6de-08c117967d94/resourceGroups/ML_Project/providers/Microsoft.MachineLearningServices/workspaces/mlproject\n"
        }
      ],
      "execution_count": 9,
      "metadata": {
        "jupyter": {
          "source_hidden": false,
          "outputs_hidden": false
        },
        "nteract": {
          "transient": {
            "deleting": false
          }
        },
        "gather": {
          "logged": 1736689020690
        }
      }
    },
    {
      "cell_type": "code",
      "source": [
        "# Set the MLFLOW TRACKING URI\n",
        "\n",
        "mlflow.set_tracking_uri(MLFLOW_TRACKING_URI)\n",
        "\n",
        "print(\"\\nCurrent tracking uri: {}\".format(mlflow.get_tracking_uri()))\n",
        "\n",
        "from mlflow.tracking.client import MlflowClient\n",
        "from mlflow.artifacts import download_artifacts\n",
        "\n",
        "# Initialize MLFlow client\n",
        "mlflow_client = MlflowClient()"
      ],
      "outputs": [
        {
          "output_type": "stream",
          "name": "stderr",
          "text": "/anaconda/envs/azureml_py310_sdkv2/lib/python3.10/site-packages/azureml/mlflow/_protos/aml_service_pb2.py:10: UserWarning: google.protobuf.service module is deprecated. RPC implementations should provide code generator plugins which generate code specific to the RPC implementation. service.py will be removed in Jan 2025\n  from google.protobuf import service as _service\n"
        }
      ],
      "execution_count": 10,
      "metadata": {
        "jupyter": {
          "source_hidden": false,
          "outputs_hidden": false
        },
        "nteract": {
          "transient": {
            "deleting": false
          }
        },
        "gather": {
          "logged": 1736689069065
        }
      }
    },
    {
      "cell_type": "code",
      "source": [
        "job_name = returned_job.name\n",
        "\n",
        "# Example if providing an specific Job name/ID\n",
        "# job_name = \"b4e95546-0aa1-448e-9ad6-002e3207b4fc\"\n",
        "\n",
        "# Get the parent run\n",
        "mlflow_parent_run = mlflow_client.get_run(job_name)\n",
        "\n",
        "print(\"Parent Run: \")\n",
        "print(mlflow_parent_run)"
      ],
      "outputs": [
        {
          "output_type": "stream",
          "name": "stdout",
          "text": "Parent Run: \n<Run: data=<RunData: metrics={'AUC_macro': 0.7806349653079421,\n 'AUC_micro': 0.8826162500000001,\n 'AUC_weighted': 0.7806349653079422,\n 'accuracy': 0.8204,\n 'average_precision_score_macro': 0.7348484716693705,\n 'average_precision_score_micro': 0.8724669200422046,\n 'average_precision_score_weighted': 0.8333295805443417,\n 'balanced_accuracy': 0.6583507368021954,\n 'f1_score_macro': 0.6834116942936708,\n 'f1_score_micro': 0.8204,\n 'f1_score_weighted': 0.7995623094560103,\n 'log_loss': 0.4287022823628952,\n 'matthews_correlation': 0.40314903424602333,\n 'norm_macro_recall': 0.31670147360439066,\n 'precision_score_macro': 0.7567052283061886,\n 'precision_score_micro': 0.8204,\n 'precision_score_weighted': 0.8037923336942328,\n 'recall_score_macro': 0.6583507368021954,\n 'recall_score_micro': 0.8204,\n 'recall_score_weighted': 0.8204,\n 'weighted_accuracy': 0.9055511810288003}, params={}, tags={'automl_best_child_run_id': 'lemon_reggae_1sxfyxv12h_3',\n 'fit_time_000': '0.5935857999999999;8.4867412;0.9193876000000001;3;9',\n 'iteration_000': '0;1;2;3;4',\n 'mlflow.rootRunId': 'lemon_reggae_1sxfyxv12h',\n 'mlflow.runName': 'lemon_reggae_1sxfyxv12h',\n 'mlflow.user': 'Nimatallahi Massud',\n 'model_explain_best_run_child_id': 'lemon_reggae_1sxfyxv12h_3',\n 'model_explain_run': 'best_run',\n 'pipeline_id_000': '5dfac790c5c209f98a1da2dc1c7fb76f0397324f;c7af0367625be6ac5c2fecbfc72ed444cb7a2111;799d2168db11fc19b9e1c6c1df62f8981ad39fe9;__AutoML_Ensemble__;__AutoML_Stack_Ensemble__',\n 'predicted_cost_000': '0;0;0.5;0;0',\n 'run_algorithm_000': 'LightGBM;XGBoostClassifier;ExtremeRandomTrees;VotingEnsemble;StackEnsemble',\n 'run_preprocessor_000': 'MaxAbsScaler;MaxAbsScaler;MaxAbsScaler;;',\n 'score_000': '0.8196;0.8153666666666666;0.7505666666666666;0.8204;0.8194666666666667',\n 'training_percent_000': '100;100;100;100;100'}>, info=<RunInfo: artifact_uri='azureml://uksouth.api.azureml.ms/mlflow/v2.0/subscriptions/43be7692-0d67-4524-a6de-08c117967d94/resourceGroups/ML_Project/providers/Microsoft.MachineLearningServices/workspaces/mlproject/experiments/e3ab1973-284a-4003-9e26-b53d6fd36af1/runs/lemon_reggae_1sxfyxv12h/artifacts', end_time=1736688781985, experiment_id='e3ab1973-284a-4003-9e26-b53d6fd36af1', lifecycle_stage='active', run_id='lemon_reggae_1sxfyxv12h', run_name='lemon_reggae_1sxfyxv12h', run_uuid='lemon_reggae_1sxfyxv12h', start_time=1736688130611, status='FINISHED', user_id='62099c70-d472-45cf-ba4d-b9a844666628'>, inputs=<RunInputs: dataset_inputs=[]>>\n"
        }
      ],
      "execution_count": 11,
      "metadata": {
        "jupyter": {
          "source_hidden": false,
          "outputs_hidden": false
        },
        "nteract": {
          "transient": {
            "deleting": false
          }
        },
        "gather": {
          "logged": 1736689073891
        }
      }
    },
    {
      "cell_type": "code",
      "source": [
        "# Print parent run tags. 'automl_best_child_run_id' tag should be there.\n",
        "print(mlflow_parent_run.data.tags)"
      ],
      "outputs": [
        {
          "output_type": "stream",
          "name": "stdout",
          "text": "{'model_explain_run': 'best_run', 'pipeline_id_000': '5dfac790c5c209f98a1da2dc1c7fb76f0397324f;c7af0367625be6ac5c2fecbfc72ed444cb7a2111;799d2168db11fc19b9e1c6c1df62f8981ad39fe9;__AutoML_Ensemble__;__AutoML_Stack_Ensemble__', 'score_000': '0.8196;0.8153666666666666;0.7505666666666666;0.8204;0.8194666666666667', 'predicted_cost_000': '0;0;0.5;0;0', 'fit_time_000': '0.5935857999999999;8.4867412;0.9193876000000001;3;9', 'training_percent_000': '100;100;100;100;100', 'iteration_000': '0;1;2;3;4', 'run_preprocessor_000': 'MaxAbsScaler;MaxAbsScaler;MaxAbsScaler;;', 'run_algorithm_000': 'LightGBM;XGBoostClassifier;ExtremeRandomTrees;VotingEnsemble;StackEnsemble', 'automl_best_child_run_id': 'lemon_reggae_1sxfyxv12h_3', 'model_explain_best_run_child_id': 'lemon_reggae_1sxfyxv12h_3', 'mlflow.rootRunId': 'lemon_reggae_1sxfyxv12h', 'mlflow.runName': 'lemon_reggae_1sxfyxv12h', 'mlflow.user': 'Nimatallahi Massud'}\n"
        }
      ],
      "execution_count": 12,
      "metadata": {
        "jupyter": {
          "source_hidden": false,
          "outputs_hidden": false
        },
        "nteract": {
          "transient": {
            "deleting": false
          }
        },
        "gather": {
          "logged": 1736689078883
        }
      }
    },
    {
      "cell_type": "code",
      "source": [
        "\n",
        "# Attempt to get the best model's child run using 'automl_best_child_run_id' tag\n",
        "best_child_run_id = mlflow_parent_run.data.tags.get(\"automl_best_child_run_id\")\n",
        "\n",
        "if best_child_run_id:\n",
        "    print(\"Found best child run id: \", best_child_run_id)\n",
        "    best_run = mlflow_client.get_run(best_child_run_id)\n",
        "else:\n",
        "    print(\"'automl_best_child_run_id' tag not found. Searching for best child run manually...\")\n",
        "\n",
        "    # Search for child runs of the parent run\n",
        "    parent_run_id = mlflow_parent_run.info.run_id\n",
        "    child_runs = mlflow.search_runs([parent_run_id])\n",
        "\n",
        "    if len(child_runs) > 0:\n",
        "        # Sort child runs based on a metric, e.g., accuracy or any performance measure you care about\n",
        "        best_run = child_runs.iloc[child_runs['metrics.accuracy'].idxmax()]\n",
        "        best_child_run_id = best_run.run_id\n",
        "        print(f\"Found best child run id: {best_child_run_id} with accuracy: {best_run['metrics.accuracy']}\")\n",
        "    else:\n",
        "        print(\"No child runs found for the given parent run.\")\n",
        "\n",
        "# If a best run is found, you can proceed to work with it\n",
        "if best_child_run_id:\n",
        "    best_run = mlflow_client.get_run(best_child_run_id)\n",
        "    print(\"Best child run details: \")\n",
        "    print(best_run)\n",
        "else:\n",
        "    print(\"Unable to find a best child run.\")"
      ],
      "outputs": [
        {
          "output_type": "stream",
          "name": "stdout",
          "text": "Found best child run id:  lemon_reggae_1sxfyxv12h_3\nBest child run details: \n<Run: data=<RunData: metrics={'AUC_macro': 0.7806349653079421,\n 'AUC_micro': 0.8826162500000001,\n 'AUC_weighted': 0.7806349653079422,\n 'accuracy': 0.8204,\n 'average_precision_score_macro': 0.7348484716693705,\n 'average_precision_score_micro': 0.8724669200422046,\n 'average_precision_score_weighted': 0.8333295805443417,\n 'balanced_accuracy': 0.6583507368021954,\n 'f1_score_macro': 0.6834116942936708,\n 'f1_score_micro': 0.8204,\n 'f1_score_weighted': 0.7995623094560103,\n 'log_loss': 0.4287022823628952,\n 'matthews_correlation': 0.40314903424602333,\n 'norm_macro_recall': 0.31670147360439066,\n 'precision_score_macro': 0.7567052283061886,\n 'precision_score_micro': 0.8204,\n 'precision_score_weighted': 0.8037923336942328,\n 'recall_score_macro': 0.6583507368021954,\n 'recall_score_micro': 0.8204,\n 'recall_score_weighted': 0.8204,\n 'weighted_accuracy': 0.9055511810288003}, params={}, tags={'mlflow.parentRunId': 'lemon_reggae_1sxfyxv12h',\n 'mlflow.rootRunId': 'lemon_reggae_1sxfyxv12h',\n 'mlflow.runName': 'tender_milk_l5qp72hv',\n 'mlflow.source.name': 'automl_driver.py',\n 'mlflow.source.type': 'JOB',\n 'mlflow.user': 'Nimatallahi Massud',\n 'model_explain_run_id': 'lemon_reggae_1sxfyxv12h_ModelExplain',\n 'model_explanation': 'True'}>, info=<RunInfo: artifact_uri='azureml://uksouth.api.azureml.ms/mlflow/v2.0/subscriptions/43be7692-0d67-4524-a6de-08c117967d94/resourceGroups/ML_Project/providers/Microsoft.MachineLearningServices/workspaces/mlproject/experiments/e3ab1973-284a-4003-9e26-b53d6fd36af1/runs/lemon_reggae_1sxfyxv12h_3/artifacts', end_time=1736688717109, experiment_id='e3ab1973-284a-4003-9e26-b53d6fd36af1', lifecycle_stage='active', run_id='lemon_reggae_1sxfyxv12h_3', run_name='tender_milk_l5qp72hv', run_uuid='lemon_reggae_1sxfyxv12h_3', start_time=1736688672093, status='FINISHED', user_id='62099c70-d472-45cf-ba4d-b9a844666628'>, inputs=<RunInputs: dataset_inputs=[]>>\n"
        }
      ],
      "execution_count": 13,
      "metadata": {
        "jupyter": {
          "source_hidden": false,
          "outputs_hidden": false
        },
        "nteract": {
          "transient": {
            "deleting": false
          }
        },
        "gather": {
          "logged": 1736689083799
        }
      }
    },
    {
      "cell_type": "code",
      "source": [
        "# Check the status of the parent run\n",
        "print(\"Parent run status: \", mlflow_parent_run.info.status)\n"
      ],
      "outputs": [
        {
          "output_type": "stream",
          "name": "stdout",
          "text": "Parent run status:  FINISHED\n"
        }
      ],
      "execution_count": 14,
      "metadata": {
        "jupyter": {
          "source_hidden": false,
          "outputs_hidden": false
        },
        "nteract": {
          "transient": {
            "deleting": false
          }
        },
        "gather": {
          "logged": 1736689138453
        }
      }
    },
    {
      "cell_type": "code",
      "source": [
        "# Force refresh the parent run info\n",
        "mlflow_parent_run = mlflow_client.get_run(mlflow_parent_run.info.run_id)\n",
        "print(\"Updated Parent run status: \", mlflow_parent_run.info.status)\n"
      ],
      "outputs": [
        {
          "output_type": "stream",
          "name": "stdout",
          "text": "Updated Parent run status:  FINISHED\n"
        }
      ],
      "execution_count": 15,
      "metadata": {
        "jupyter": {
          "source_hidden": false,
          "outputs_hidden": false
        },
        "nteract": {
          "transient": {
            "deleting": false
          }
        },
        "gather": {
          "logged": 1736689145007
        }
      }
    },
    {
      "cell_type": "code",
      "source": [
        "# Get the best model's child run\n",
        "\n",
        "best_child_run_id = mlflow_parent_run.data.tags[\"automl_best_child_run_id\"]\n",
        "print(\"Found best child run id: \", best_child_run_id)\n",
        "\n",
        "best_run = mlflow_client.get_run(best_child_run_id)\n",
        "\n",
        "print(\"Best child run: \")\n",
        "print(best_run)"
      ],
      "outputs": [
        {
          "output_type": "stream",
          "name": "stdout",
          "text": "Found best child run id:  lemon_reggae_1sxfyxv12h_3\nBest child run: \n<Run: data=<RunData: metrics={'AUC_macro': 0.7806349653079421,\n 'AUC_micro': 0.8826162500000001,\n 'AUC_weighted': 0.7806349653079422,\n 'accuracy': 0.8204,\n 'average_precision_score_macro': 0.7348484716693705,\n 'average_precision_score_micro': 0.8724669200422046,\n 'average_precision_score_weighted': 0.8333295805443417,\n 'balanced_accuracy': 0.6583507368021954,\n 'f1_score_macro': 0.6834116942936708,\n 'f1_score_micro': 0.8204,\n 'f1_score_weighted': 0.7995623094560103,\n 'log_loss': 0.4287022823628952,\n 'matthews_correlation': 0.40314903424602333,\n 'norm_macro_recall': 0.31670147360439066,\n 'precision_score_macro': 0.7567052283061886,\n 'precision_score_micro': 0.8204,\n 'precision_score_weighted': 0.8037923336942328,\n 'recall_score_macro': 0.6583507368021954,\n 'recall_score_micro': 0.8204,\n 'recall_score_weighted': 0.8204,\n 'weighted_accuracy': 0.9055511810288003}, params={}, tags={'mlflow.parentRunId': 'lemon_reggae_1sxfyxv12h',\n 'mlflow.rootRunId': 'lemon_reggae_1sxfyxv12h',\n 'mlflow.runName': 'tender_milk_l5qp72hv',\n 'mlflow.source.name': 'automl_driver.py',\n 'mlflow.source.type': 'JOB',\n 'mlflow.user': 'Nimatallahi Massud',\n 'model_explain_run_id': 'lemon_reggae_1sxfyxv12h_ModelExplain',\n 'model_explanation': 'True'}>, info=<RunInfo: artifact_uri='azureml://uksouth.api.azureml.ms/mlflow/v2.0/subscriptions/43be7692-0d67-4524-a6de-08c117967d94/resourceGroups/ML_Project/providers/Microsoft.MachineLearningServices/workspaces/mlproject/experiments/e3ab1973-284a-4003-9e26-b53d6fd36af1/runs/lemon_reggae_1sxfyxv12h_3/artifacts', end_time=1736688717109, experiment_id='e3ab1973-284a-4003-9e26-b53d6fd36af1', lifecycle_stage='active', run_id='lemon_reggae_1sxfyxv12h_3', run_name='tender_milk_l5qp72hv', run_uuid='lemon_reggae_1sxfyxv12h_3', start_time=1736688672093, status='FINISHED', user_id='62099c70-d472-45cf-ba4d-b9a844666628'>, inputs=<RunInputs: dataset_inputs=[]>>\n"
        }
      ],
      "execution_count": 16,
      "metadata": {
        "jupyter": {
          "source_hidden": false,
          "outputs_hidden": false
        },
        "nteract": {
          "transient": {
            "deleting": false
          }
        },
        "gather": {
          "logged": 1736689156982
        }
      }
    },
    {
      "cell_type": "code",
      "source": [
        "best_run.data.metrics"
      ],
      "outputs": [
        {
          "output_type": "execute_result",
          "execution_count": 17,
          "data": {
            "text/plain": "{'weighted_accuracy': 0.9055511810288003,\n 'recall_score_weighted': 0.8204,\n 'recall_score_micro': 0.8204,\n 'matthews_correlation': 0.40314903424602333,\n 'accuracy': 0.8204,\n 'AUC_micro': 0.8826162500000001,\n 'f1_score_weighted': 0.7995623094560103,\n 'average_precision_score_weighted': 0.8333295805443417,\n 'f1_score_macro': 0.6834116942936708,\n 'norm_macro_recall': 0.31670147360439066,\n 'precision_score_macro': 0.7567052283061886,\n 'precision_score_micro': 0.8204,\n 'AUC_macro': 0.7806349653079421,\n 'precision_score_weighted': 0.8037923336942328,\n 'log_loss': 0.4287022823628952,\n 'average_precision_score_macro': 0.7348484716693705,\n 'balanced_accuracy': 0.6583507368021954,\n 'AUC_weighted': 0.7806349653079422,\n 'recall_score_macro': 0.6583507368021954,\n 'f1_score_micro': 0.8204,\n 'average_precision_score_micro': 0.8724669200422046}"
          },
          "metadata": {}
        }
      ],
      "execution_count": 17,
      "metadata": {
        "jupyter": {
          "source_hidden": false,
          "outputs_hidden": false
        },
        "nteract": {
          "transient": {
            "deleting": false
          }
        },
        "gather": {
          "logged": 1736689163588
        }
      }
    },
    {
      "cell_type": "code",
      "source": [
        "# import required libraries\n",
        "from azure.ai.ml.entities import (\n",
        "    ManagedOnlineEndpoint,\n",
        "    ManagedOnlineDeployment,\n",
        "    Model,\n",
        "    Environment,\n",
        "    CodeConfiguration,\n",
        "    ProbeSettings,\n",
        ")\n",
        "from azure.ai.ml.constants import ModelType"
      ],
      "outputs": [],
      "execution_count": 18,
      "metadata": {
        "jupyter": {
          "source_hidden": false,
          "outputs_hidden": false
        },
        "nteract": {
          "transient": {
            "deleting": false
          }
        },
        "gather": {
          "logged": 1736689168577
        }
      }
    },
    {
      "cell_type": "code",
      "source": [
        "import datetime\n",
        "\n",
        "# Generate a valid online endpoint name\n",
        "experiment_name = \"creditcarddata\"  # Ensure this starts with a letter and has no spaces or special characters\n",
        "timestamp = datetime.datetime.now().strftime(\"%m%d%H%M%S\")  # Removes microseconds for simplicity\n",
        "online_endpoint_name = f\"{experiment_name}-{timestamp}\"\n",
        "\n",
        "# Create an online endpoint with the unique name\n",
        "endpoint = ManagedOnlineEndpoint(\n",
        "    name=online_endpoint_name,\n",
        "    description=\"Online endpoint for the credit card data experiment.\",\n",
        "    auth_mode=\"key\",  # Default authentication mode\n",
        ")\n",
        "\n",
        "# Print the generated endpoint name\n",
        "print(f\"Generated online endpoint name: {online_endpoint_name}\")\n"
      ],
      "outputs": [
        {
          "output_type": "stream",
          "name": "stdout",
          "text": "Generated online endpoint name: creditcarddata-0112133933\n"
        }
      ],
      "execution_count": 19,
      "metadata": {
        "jupyter": {
          "source_hidden": false,
          "outputs_hidden": false
        },
        "nteract": {
          "transient": {
            "deleting": false
          }
        },
        "gather": {
          "logged": 1736689171887
        }
      }
    },
    {
      "cell_type": "code",
      "source": [
        "ml_client.begin_create_or_update(endpoint).result()"
      ],
      "outputs": [
        {
          "output_type": "execute_result",
          "execution_count": 20,
          "data": {
            "text/plain": "ManagedOnlineEndpoint({'public_network_access': 'Enabled', 'provisioning_state': 'Succeeded', 'scoring_uri': 'https://creditcarddata-0112133933.uksouth.inference.ml.azure.com/score', 'openapi_uri': 'https://creditcarddata-0112133933.uksouth.inference.ml.azure.com/swagger.json', 'name': 'creditcarddata-0112133933', 'description': 'Online endpoint for the credit card data experiment.', 'tags': {}, 'properties': {'createdBy': 'Nimatallahi Massud', 'createdAt': '2025-01-12T13:39:38.644542+0000', 'lastModifiedAt': '2025-01-12T13:39:38.644542+0000', 'azureml.onlineendpointid': '/subscriptions/43be7692-0d67-4524-a6de-08c117967d94/resourcegroups/ml_project/providers/microsoft.machinelearningservices/workspaces/mlproject/onlineendpoints/creditcarddata-0112133933', 'AzureAsyncOperationUri': 'https://management.azure.com/subscriptions/43be7692-0d67-4524-a6de-08c117967d94/providers/Microsoft.MachineLearningServices/locations/uksouth/mfeOperationsStatus/oeidp:afb0ba33-1525-4e26-8e44-aed56d3b908b:81465295-b6e7-4c2c-b02a-07ab668d23c6?api-version=2022-02-01-preview'}, 'print_as_yaml': False, 'id': '/subscriptions/43be7692-0d67-4524-a6de-08c117967d94/resourceGroups/ML_Project/providers/Microsoft.MachineLearningServices/workspaces/mlproject/onlineEndpoints/creditcarddata-0112133933', 'Resource__source_path': '', 'base_path': '/mnt/batch/tasks/shared/LS_root/mounts/clusters/nmasuud1/code/Users/Nmasuud', 'creation_context': None, 'serialize': <msrest.serialization.Serializer object at 0x7f84094123b0>, 'auth_mode': 'key', 'location': 'uksouth', 'identity': <azure.ai.ml.entities._credentials.IdentityConfiguration object at 0x7f84093fa770>, 'traffic': {}, 'mirror_traffic': {}, 'kind': 'Managed'})"
          },
          "metadata": {}
        }
      ],
      "execution_count": 20,
      "metadata": {
        "jupyter": {
          "source_hidden": false,
          "outputs_hidden": false
        },
        "nteract": {
          "transient": {
            "deleting": false
          }
        },
        "gather": {
          "logged": 1736689267997
        }
      }
    },
    {
      "cell_type": "code",
      "source": [
        "# Best child run ID\n",
        "best_child_run_id = \"lemon_reggae_1sxfyxv12h_3\"\n",
        "\n",
        "# Construct model path\n",
        "artifact_uri = f\"azureml://jobs/{best_child_run_id}/outputs/artifacts\"\n",
        "model_path = f\"{artifact_uri}/outputs/mlflow-model/\"\n",
        "\n",
        "# Define the model\n",
        "model = Model(\n",
        "    path=model_path,\n",
        "    name=\"creditcard-score-model\",\n",
        "    description=\"Classification model for credit card score detection\",\n",
        "    type=AssetTypes.MLFLOW_MODEL,\n",
        ")\n",
        "\n",
        "# Register the model\n",
        "registered_model = ml_client.models.create_or_update(model)\n",
        "print(f\"Registered model: {registered_model.name}, version: {registered_model.version}\")\n",
        "registered_model.id\n"
      ],
      "outputs": [
        {
          "output_type": "stream",
          "name": "stdout",
          "text": "Registered model: creditcard-score-model, version: 4\n"
        },
        {
          "output_type": "execute_result",
          "execution_count": 33,
          "data": {
            "text/plain": "'/subscriptions/43be7692-0d67-4524-a6de-08c117967d94/resourceGroups/ML_Project/providers/Microsoft.MachineLearningServices/workspaces/mlproject/models/creditcard-score-model/versions/4'"
          },
          "metadata": {}
        }
      ],
      "execution_count": 33,
      "metadata": {
        "jupyter": {
          "source_hidden": false,
          "outputs_hidden": false
        },
        "nteract": {
          "transient": {
            "deleting": false
          }
        },
        "gather": {
          "logged": 1736691280753
        }
      }
    },
    {
      "cell_type": "code",
      "source": [
        "deployment = ManagedOnlineDeployment(\n",
        "    name=\"creditcard-score-deploy\",\n",
        "    endpoint_name=online_endpoint_name,\n",
        "    model=registered_model.id,\n",
        "    instance_type=\"Standard_DS2_v2\",\n",
        "    instance_count=1,\n",
        "    liveness_probe=ProbeSettings(\n",
        "        failure_threshold=30,\n",
        "        success_threshold=1,\n",
        "        timeout=2,\n",
        "        period=10,\n",
        "        initial_delay=2000,\n",
        "    ),\n",
        "    readiness_probe=ProbeSettings(\n",
        "        failure_threshold=10,\n",
        "        success_threshold=1,\n",
        "        timeout=10,\n",
        "        period=10,\n",
        "        initial_delay=2000,\n",
        "    ),\n",
        ")"
      ],
      "outputs": [],
      "execution_count": 38,
      "metadata": {
        "jupyter": {
          "source_hidden": false,
          "outputs_hidden": false
        },
        "nteract": {
          "transient": {
            "deleting": false
          }
        },
        "gather": {
          "logged": 1736692449173
        }
      }
    },
    {
      "cell_type": "code",
      "source": [
        "ml_client.online_deployments.begin_create_or_update(deployment).result()"
      ],
      "outputs": [
        {
          "output_type": "stream",
          "name": "stderr",
          "text": "Instance type Standard_DS2_v2 may be too small for compute resources. Minimum recommended compute SKU is Standard_DS3_v2 for general purpose endpoints. Learn more about SKUs here: https://learn.microsoft.com/en-us/azure/machine-learning/referencemanaged-online-endpoints-vm-sku-list\nCheck: endpoint creditcarddata-0112133933 exists\n"
        },
        {
          "output_type": "stream",
          "name": "stdout",
          "text": "......................................................................................................................................................................................................................................................................................................................................................................................................................................................................................................................................"
        },
        {
          "output_type": "execute_result",
          "execution_count": 39,
          "data": {
            "text/plain": "ManagedOnlineDeployment({'private_network_connection': None, 'package_model': False, 'provisioning_state': 'Succeeded', 'endpoint_name': 'creditcarddata-0112133933', 'type': 'Managed', 'name': 'creditcard-score-deploy', 'description': None, 'tags': {}, 'properties': {'AzureAsyncOperationUri': 'https://management.azure.com/subscriptions/43be7692-0d67-4524-a6de-08c117967d94/providers/Microsoft.MachineLearningServices/locations/uksouth/mfeOperationsStatus/odidp:afb0ba33-1525-4e26-8e44-aed56d3b908b:b2df770a-dbcf-4187-82a8-225d9dab0cf0?api-version=2023-04-01-preview'}, 'print_as_yaml': False, 'id': '/subscriptions/43be7692-0d67-4524-a6de-08c117967d94/resourceGroups/ML_Project/providers/Microsoft.MachineLearningServices/workspaces/mlproject/onlineEndpoints/creditcarddata-0112133933/deployments/creditcard-score-deploy', 'Resource__source_path': '', 'base_path': '/mnt/batch/tasks/shared/LS_root/mounts/clusters/nmasuud1/code/Users/Nmasuud', 'creation_context': <azure.ai.ml._restclient.v2023_04_01_preview.models._models_py3.SystemData object at 0x7f8405a8f5e0>, 'serialize': <msrest.serialization.Serializer object at 0x7f8405a8ff70>, 'model': '/subscriptions/43be7692-0d67-4524-a6de-08c117967d94/resourceGroups/ML_Project/providers/Microsoft.MachineLearningServices/workspaces/mlproject/models/creditcard-score-model/versions/4', 'code_configuration': None, 'environment': '/subscriptions/43be7692-0d67-4524-a6de-08c117967d94/resourceGroups/ML_Project/providers/Microsoft.MachineLearningServices/workspaces/mlproject/environments/DefaultNcdEnv-ai-ml-automl/versions/12', 'environment_variables': {'AML_APP_ROOT': '/var/mlflow_resources', 'AZUREML_ENTRY_SCRIPT': 'mlflow_score_script.py', 'AZUREML_MODEL_DIR': '/var/azureml-app/azureml-models/creditcard-score-model/4'}, 'app_insights_enabled': False, 'scale_settings': <azure.ai.ml.entities._deployment.scale_settings.DefaultScaleSettings object at 0x7f8405a8f6a0>, 'request_settings': <azure.ai.ml.entities._deployment.deployment_settings.OnlineRequestSettings object at 0x7f8405a8f370>, 'liveness_probe': <azure.ai.ml.entities._deployment.deployment_settings.ProbeSettings object at 0x7f8405a8ef20>, 'readiness_probe': <azure.ai.ml.entities._deployment.deployment_settings.ProbeSettings object at 0x7f8405a8ff10>, 'instance_count': 1, 'arm_type': 'online_deployment', 'model_mount_path': None, 'instance_type': 'Standard_DS2_v2', 'data_collector': None, 'egress_public_network_access': 'Enabled'})"
          },
          "metadata": {}
        }
      ],
      "execution_count": 39,
      "metadata": {
        "jupyter": {
          "source_hidden": false,
          "outputs_hidden": false
        },
        "nteract": {
          "transient": {
            "deleting": false
          }
        },
        "gather": {
          "logged": 1736695113315
        }
      }
    },
    {
      "cell_type": "code",
      "source": [
        "# creditcard-score deployment to take 100% traffic\n",
        "endpoint.traffic = {\"creditcard-score-deploy\": 100}\n",
        "ml_client.begin_create_or_update(endpoint)\n"
      ],
      "outputs": [
        {
          "output_type": "execute_result",
          "execution_count": 40,
          "data": {
            "text/plain": "<azure.core.polling._poller.LROPoller at 0x7f8405a8fdf0>"
          },
          "metadata": {}
        }
      ],
      "execution_count": 40,
      "metadata": {
        "jupyter": {
          "source_hidden": false,
          "outputs_hidden": false
        },
        "nteract": {
          "transient": {
            "deleting": false
          }
        },
        "gather": {
          "logged": 1736695778667
        }
      }
    },
    {
      "cell_type": "code",
      "source": [],
      "outputs": [],
      "execution_count": null,
      "metadata": {
        "jupyter": {
          "source_hidden": false,
          "outputs_hidden": false
        },
        "nteract": {
          "transient": {
            "deleting": false
          }
        }
      }
    }
  ],
  "metadata": {
    "kernelspec": {
      "name": "python310-sdkv2",
      "language": "python",
      "display_name": "Python 3.10 - SDK v2"
    },
    "language_info": {
      "name": "python",
      "version": "3.10.14",
      "mimetype": "text/x-python",
      "codemirror_mode": {
        "name": "ipython",
        "version": 3
      },
      "pygments_lexer": "ipython3",
      "nbconvert_exporter": "python",
      "file_extension": ".py"
    },
    "microsoft": {
      "ms_spell_check": {
        "ms_spell_check_language": "en"
      },
      "host": {
        "AzureML": {
          "notebookHasBeenCompleted": true
        }
      }
    },
    "kernel_info": {
      "name": "python310-sdkv2"
    },
    "nteract": {
      "version": "nteract-front-end@1.0.0"
    }
  },
  "nbformat": 4,
  "nbformat_minor": 2
}